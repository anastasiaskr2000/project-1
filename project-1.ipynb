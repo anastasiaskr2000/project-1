{
 "cells": [
  {
   "cell_type": "code",
   "execution_count": 1,
   "id": "56e2b602-55cc-481f-8e06-55798728b6d4",
   "metadata": {},
   "outputs": [],
   "source": [
    "import pandas as pd\n",
    "import numpy as np "
   ]
  },
  {
   "cell_type": "code",
   "execution_count": 2,
   "id": "38bf1b89-e663-4911-ac37-6e5550822e5f",
   "metadata": {},
   "outputs": [],
   "source": [
    "dt = pd.read_csv('ds_salaries.csv')"
   ]
  },
  {
   "cell_type": "code",
   "execution_count": 3,
   "id": "faf7119e-6001-43f0-a60e-88dca7d046ce",
   "metadata": {},
   "outputs": [
    {
     "data": {
      "text/html": [
       "<div>\n",
       "<style scoped>\n",
       "    .dataframe tbody tr th:only-of-type {\n",
       "        vertical-align: middle;\n",
       "    }\n",
       "\n",
       "    .dataframe tbody tr th {\n",
       "        vertical-align: top;\n",
       "    }\n",
       "\n",
       "    .dataframe thead th {\n",
       "        text-align: right;\n",
       "    }\n",
       "</style>\n",
       "<table border=\"1\" class=\"dataframe\">\n",
       "  <thead>\n",
       "    <tr style=\"text-align: right;\">\n",
       "      <th></th>\n",
       "      <th>work_year</th>\n",
       "      <th>experience_level</th>\n",
       "      <th>employment_type</th>\n",
       "      <th>job_title</th>\n",
       "      <th>salary</th>\n",
       "      <th>salary_currency</th>\n",
       "      <th>salary_in_usd</th>\n",
       "      <th>employee_residence</th>\n",
       "      <th>remote_ratio</th>\n",
       "      <th>company_location</th>\n",
       "      <th>company_size</th>\n",
       "    </tr>\n",
       "  </thead>\n",
       "  <tbody>\n",
       "    <tr>\n",
       "      <th>0</th>\n",
       "      <td>2023</td>\n",
       "      <td>SE</td>\n",
       "      <td>FT</td>\n",
       "      <td>Principal Data Scientist</td>\n",
       "      <td>80000</td>\n",
       "      <td>EUR</td>\n",
       "      <td>85847</td>\n",
       "      <td>ES</td>\n",
       "      <td>100</td>\n",
       "      <td>ES</td>\n",
       "      <td>L</td>\n",
       "    </tr>\n",
       "    <tr>\n",
       "      <th>1</th>\n",
       "      <td>2023</td>\n",
       "      <td>MI</td>\n",
       "      <td>CT</td>\n",
       "      <td>ML Engineer</td>\n",
       "      <td>30000</td>\n",
       "      <td>USD</td>\n",
       "      <td>30000</td>\n",
       "      <td>US</td>\n",
       "      <td>100</td>\n",
       "      <td>US</td>\n",
       "      <td>S</td>\n",
       "    </tr>\n",
       "    <tr>\n",
       "      <th>2</th>\n",
       "      <td>2023</td>\n",
       "      <td>MI</td>\n",
       "      <td>CT</td>\n",
       "      <td>ML Engineer</td>\n",
       "      <td>25500</td>\n",
       "      <td>USD</td>\n",
       "      <td>25500</td>\n",
       "      <td>US</td>\n",
       "      <td>100</td>\n",
       "      <td>US</td>\n",
       "      <td>S</td>\n",
       "    </tr>\n",
       "    <tr>\n",
       "      <th>3</th>\n",
       "      <td>2023</td>\n",
       "      <td>SE</td>\n",
       "      <td>FT</td>\n",
       "      <td>Data Scientist</td>\n",
       "      <td>175000</td>\n",
       "      <td>USD</td>\n",
       "      <td>175000</td>\n",
       "      <td>CA</td>\n",
       "      <td>100</td>\n",
       "      <td>CA</td>\n",
       "      <td>M</td>\n",
       "    </tr>\n",
       "    <tr>\n",
       "      <th>4</th>\n",
       "      <td>2023</td>\n",
       "      <td>SE</td>\n",
       "      <td>FT</td>\n",
       "      <td>Data Scientist</td>\n",
       "      <td>120000</td>\n",
       "      <td>USD</td>\n",
       "      <td>120000</td>\n",
       "      <td>CA</td>\n",
       "      <td>100</td>\n",
       "      <td>CA</td>\n",
       "      <td>M</td>\n",
       "    </tr>\n",
       "  </tbody>\n",
       "</table>\n",
       "</div>"
      ],
      "text/plain": [
       "   work_year experience_level employment_type                 job_title   \n",
       "0       2023               SE              FT  Principal Data Scientist  \\\n",
       "1       2023               MI              CT               ML Engineer   \n",
       "2       2023               MI              CT               ML Engineer   \n",
       "3       2023               SE              FT            Data Scientist   \n",
       "4       2023               SE              FT            Data Scientist   \n",
       "\n",
       "   salary salary_currency  salary_in_usd employee_residence  remote_ratio   \n",
       "0   80000             EUR          85847                 ES           100  \\\n",
       "1   30000             USD          30000                 US           100   \n",
       "2   25500             USD          25500                 US           100   \n",
       "3  175000             USD         175000                 CA           100   \n",
       "4  120000             USD         120000                 CA           100   \n",
       "\n",
       "  company_location company_size  \n",
       "0               ES            L  \n",
       "1               US            S  \n",
       "2               US            S  \n",
       "3               CA            M  \n",
       "4               CA            M  "
      ]
     },
     "execution_count": 3,
     "metadata": {},
     "output_type": "execute_result"
    }
   ],
   "source": [
    "dt.head()"
   ]
  },
  {
   "cell_type": "code",
   "execution_count": 4,
   "id": "8d5e2970-6936-4b4f-a429-75f6f49e7c75",
   "metadata": {},
   "outputs": [
    {
     "data": {
      "text/plain": [
       "(3755, 11)"
      ]
     },
     "execution_count": 4,
     "metadata": {},
     "output_type": "execute_result"
    }
   ],
   "source": [
    "dt.shape"
   ]
  },
  {
   "cell_type": "code",
   "execution_count": 5,
   "id": "1e145ddf-6733-45cc-9a51-2553063e383d",
   "metadata": {},
   "outputs": [
    {
     "data": {
      "text/html": [
       "<div>\n",
       "<style scoped>\n",
       "    .dataframe tbody tr th:only-of-type {\n",
       "        vertical-align: middle;\n",
       "    }\n",
       "\n",
       "    .dataframe tbody tr th {\n",
       "        vertical-align: top;\n",
       "    }\n",
       "\n",
       "    .dataframe thead th {\n",
       "        text-align: right;\n",
       "    }\n",
       "</style>\n",
       "<table border=\"1\" class=\"dataframe\">\n",
       "  <thead>\n",
       "    <tr style=\"text-align: right;\">\n",
       "      <th></th>\n",
       "      <th>work_year</th>\n",
       "      <th>salary</th>\n",
       "      <th>salary_in_usd</th>\n",
       "      <th>remote_ratio</th>\n",
       "    </tr>\n",
       "  </thead>\n",
       "  <tbody>\n",
       "    <tr>\n",
       "      <th>count</th>\n",
       "      <td>3755.000000</td>\n",
       "      <td>3.755000e+03</td>\n",
       "      <td>3755.000000</td>\n",
       "      <td>3755.000000</td>\n",
       "    </tr>\n",
       "    <tr>\n",
       "      <th>mean</th>\n",
       "      <td>2022.373635</td>\n",
       "      <td>1.906956e+05</td>\n",
       "      <td>137570.389880</td>\n",
       "      <td>46.271638</td>\n",
       "    </tr>\n",
       "    <tr>\n",
       "      <th>std</th>\n",
       "      <td>0.691448</td>\n",
       "      <td>6.716765e+05</td>\n",
       "      <td>63055.625278</td>\n",
       "      <td>48.589050</td>\n",
       "    </tr>\n",
       "    <tr>\n",
       "      <th>min</th>\n",
       "      <td>2020.000000</td>\n",
       "      <td>6.000000e+03</td>\n",
       "      <td>5132.000000</td>\n",
       "      <td>0.000000</td>\n",
       "    </tr>\n",
       "    <tr>\n",
       "      <th>25%</th>\n",
       "      <td>2022.000000</td>\n",
       "      <td>1.000000e+05</td>\n",
       "      <td>95000.000000</td>\n",
       "      <td>0.000000</td>\n",
       "    </tr>\n",
       "    <tr>\n",
       "      <th>50%</th>\n",
       "      <td>2022.000000</td>\n",
       "      <td>1.380000e+05</td>\n",
       "      <td>135000.000000</td>\n",
       "      <td>0.000000</td>\n",
       "    </tr>\n",
       "    <tr>\n",
       "      <th>75%</th>\n",
       "      <td>2023.000000</td>\n",
       "      <td>1.800000e+05</td>\n",
       "      <td>175000.000000</td>\n",
       "      <td>100.000000</td>\n",
       "    </tr>\n",
       "    <tr>\n",
       "      <th>max</th>\n",
       "      <td>2023.000000</td>\n",
       "      <td>3.040000e+07</td>\n",
       "      <td>450000.000000</td>\n",
       "      <td>100.000000</td>\n",
       "    </tr>\n",
       "  </tbody>\n",
       "</table>\n",
       "</div>"
      ],
      "text/plain": [
       "         work_year        salary  salary_in_usd  remote_ratio\n",
       "count  3755.000000  3.755000e+03    3755.000000   3755.000000\n",
       "mean   2022.373635  1.906956e+05  137570.389880     46.271638\n",
       "std       0.691448  6.716765e+05   63055.625278     48.589050\n",
       "min    2020.000000  6.000000e+03    5132.000000      0.000000\n",
       "25%    2022.000000  1.000000e+05   95000.000000      0.000000\n",
       "50%    2022.000000  1.380000e+05  135000.000000      0.000000\n",
       "75%    2023.000000  1.800000e+05  175000.000000    100.000000\n",
       "max    2023.000000  3.040000e+07  450000.000000    100.000000"
      ]
     },
     "execution_count": 5,
     "metadata": {},
     "output_type": "execute_result"
    }
   ],
   "source": [
    "dt.describe()"
   ]
  },
  {
   "cell_type": "code",
   "execution_count": 6,
   "id": "2c97721c-4c7a-473f-8437-059a3e67dd27",
   "metadata": {},
   "outputs": [
    {
     "name": "stdout",
     "output_type": "stream",
     "text": [
      "Total number of unique job titles: 93\n",
      "['3D Computer Vision Researcher' 'AI Developer' 'AI Programmer'\n",
      " 'AI Scientist' 'Analytics Engineer' 'Applied Data Scientist'\n",
      " 'Applied Machine Learning Engineer' 'Applied Machine Learning Scientist'\n",
      " 'Applied Scientist' 'Autonomous Vehicle Technician' 'Azure Data Engineer'\n",
      " 'BI Analyst' 'BI Data Analyst' 'BI Data Engineer' 'BI Developer'\n",
      " 'Big Data Architect' 'Big Data Engineer' 'Business Data Analyst'\n",
      " 'Business Intelligence Engineer' 'Cloud Data Architect'\n",
      " 'Cloud Data Engineer' 'Cloud Database Engineer' 'Compliance Data Analyst'\n",
      " 'Computer Vision Engineer' 'Computer Vision Software Engineer'\n",
      " 'Data Analyst' 'Data Analytics Consultant' 'Data Analytics Engineer'\n",
      " 'Data Analytics Lead' 'Data Analytics Manager'\n",
      " 'Data Analytics Specialist' 'Data Architect' 'Data DevOps Engineer'\n",
      " 'Data Engineer' 'Data Infrastructure Engineer' 'Data Lead'\n",
      " 'Data Management Specialist' 'Data Manager' 'Data Modeler'\n",
      " 'Data Operations Analyst' 'Data Operations Engineer'\n",
      " 'Data Quality Analyst' 'Data Science Consultant' 'Data Science Engineer'\n",
      " 'Data Science Lead' 'Data Science Manager' 'Data Science Tech Lead'\n",
      " 'Data Scientist' 'Data Scientist Lead' 'Data Specialist'\n",
      " 'Data Strategist' 'Deep Learning Engineer' 'Deep Learning Researcher'\n",
      " 'Director of Data Science' 'ETL Developer' 'ETL Engineer'\n",
      " 'Finance Data Analyst' 'Financial Data Analyst' 'Head of Data'\n",
      " 'Head of Data Science' 'Head of Machine Learning' 'Insight Analyst'\n",
      " 'Lead Data Analyst' 'Lead Data Engineer' 'Lead Data Scientist'\n",
      " 'Lead Machine Learning Engineer' 'ML Engineer' 'MLOps Engineer'\n",
      " 'Machine Learning Developer' 'Machine Learning Engineer'\n",
      " 'Machine Learning Infrastructure Engineer' 'Machine Learning Manager'\n",
      " 'Machine Learning Research Engineer' 'Machine Learning Researcher'\n",
      " 'Machine Learning Scientist' 'Machine Learning Software Engineer'\n",
      " 'Manager Data Management' 'Marketing Data Analyst'\n",
      " 'Marketing Data Engineer' 'NLP Engineer' 'Power BI Developer'\n",
      " 'Principal Data Analyst' 'Principal Data Architect'\n",
      " 'Principal Data Engineer' 'Principal Data Scientist'\n",
      " 'Principal Machine Learning Engineer' 'Product Data Analyst'\n",
      " 'Product Data Scientist' 'Research Engineer' 'Research Scientist'\n",
      " 'Software Data Engineer' 'Staff Data Analyst' 'Staff Data Scientist']\n"
     ]
    }
   ],
   "source": [
    "#Calculate unique job titles: \n",
    "unique_job_titles = np.unique(dt['job_title'])\n",
    "total_unique_job_titles = len(unique_job_titles)\n",
    "print(\"Total number of unique job titles:\", total_unique_job_titles)\n",
    "column_values = dt['job_title']\n",
    "unique_values = np.unique(column_values)\n",
    "print(unique_values)"
   ]
  },
  {
   "cell_type": "code",
   "execution_count": 7,
   "id": "3e506205-699e-4cfa-9bf9-3aa9127bea3c",
   "metadata": {},
   "outputs": [
    {
     "name": "stdout",
     "output_type": "stream",
     "text": [
      "Total number of experience levels: 4\n",
      "['EN' 'EX' 'MI' 'SE']\n"
     ]
    }
   ],
   "source": [
    "#Calculate # & list types of experience levels \n",
    "unique_experience_levels = np.unique(dt['experience_level'])\n",
    "total_unique_experience_levels = len(unique_experience_levels)\n",
    "print(\"Total number of experience levels:\", total_unique_experience_levels)\n",
    "column_values = dt['experience_level']\n",
    "unique_values = np.unique(column_values)\n",
    "print(unique_values)"
   ]
  },
  {
   "cell_type": "code",
   "execution_count": 8,
   "id": "bcdedd90-ba28-454f-9d43-51f128af040a",
   "metadata": {},
   "outputs": [
    {
     "name": "stdout",
     "output_type": "stream",
     "text": [
      "Total number of employee residences: 78\n",
      "['AE' 'AM' 'AR' 'AS' 'AT' 'AU' 'BA' 'BE' 'BG' 'BO' 'BR' 'CA' 'CF' 'CH'\n",
      " 'CL' 'CN' 'CO' 'CR' 'CY' 'CZ' 'DE' 'DK' 'DO' 'DZ' 'EE' 'EG' 'ES' 'FI'\n",
      " 'FR' 'GB' 'GH' 'GR' 'HK' 'HN' 'HR' 'HU' 'ID' 'IE' 'IL' 'IN' 'IQ' 'IR'\n",
      " 'IT' 'JE' 'JP' 'KE' 'KW' 'LT' 'LU' 'LV' 'MA' 'MD' 'MK' 'MT' 'MX' 'MY'\n",
      " 'NG' 'NL' 'NZ' 'PH' 'PK' 'PL' 'PR' 'PT' 'RO' 'RS' 'RU' 'SE' 'SG' 'SI'\n",
      " 'SK' 'TH' 'TN' 'TR' 'UA' 'US' 'UZ' 'VN']\n"
     ]
    }
   ],
   "source": [
    "#Calculate # of employee residences & list employee residences\n",
    "unique_employee_residences = np.unique(dt['employee_residence'])\n",
    "total_unique_employee_residences = len(unique_employee_residences)\n",
    "print(\"Total number of employee residences:\", total_unique_employee_residences)\n",
    "column_values = dt['employee_residence']\n",
    "unique_values = np.unique(column_values)\n",
    "print(unique_values)"
   ]
  },
  {
   "cell_type": "code",
   "execution_count": 9,
   "id": "730df547-042c-4fa5-b959-c6cc9004f0e3",
   "metadata": {},
   "outputs": [
    {
     "name": "stdout",
     "output_type": "stream",
     "text": [
      "Total number of company locations: 72\n",
      "['AE' 'AL' 'AM' 'AR' 'AS' 'AT' 'AU' 'BA' 'BE' 'BO' 'BR' 'BS' 'CA' 'CF'\n",
      " 'CH' 'CL' 'CN' 'CO' 'CR' 'CZ' 'DE' 'DK' 'DZ' 'EE' 'EG' 'ES' 'FI' 'FR'\n",
      " 'GB' 'GH' 'GR' 'HK' 'HN' 'HR' 'HU' 'ID' 'IE' 'IL' 'IN' 'IQ' 'IR' 'IT'\n",
      " 'JP' 'KE' 'LT' 'LU' 'LV' 'MA' 'MD' 'MK' 'MT' 'MX' 'MY' 'NG' 'NL' 'NZ'\n",
      " 'PH' 'PK' 'PL' 'PR' 'PT' 'RO' 'RU' 'SE' 'SG' 'SI' 'SK' 'TH' 'TR' 'UA'\n",
      " 'US' 'VN']\n"
     ]
    }
   ],
   "source": [
    "#Calculate # of company locations & list company locations\n",
    "unique_company_locations = np.unique(dt['company_location'])\n",
    "total_unique_company_locations = len(unique_company_locations)\n",
    "print(\"Total number of company locations:\", total_unique_company_locations)\n",
    "column_values = dt['company_location']\n",
    "unique_values = np.unique(column_values)\n",
    "print(unique_values)"
   ]
  },
  {
   "cell_type": "code",
   "execution_count": 10,
   "id": "b880c46a-844e-4708-a374-aca2907e20b6",
   "metadata": {},
   "outputs": [
    {
     "name": "stdout",
     "output_type": "stream",
     "text": [
      "Average salary: $190695.57\n"
     ]
    }
   ],
   "source": [
    "#Calculate average salary\n",
    "average_salary = np.mean(dt[\"salary\"])\n",
    "print(f\"Average salary: ${average_salary:.2f}\")"
   ]
  },
  {
   "cell_type": "code",
   "execution_count": 11,
   "id": "45c21183-0a5d-4fdd-985f-7acc1f24afce",
   "metadata": {},
   "outputs": [
    {
     "name": "stdout",
     "output_type": "stream",
     "text": [
      "  experience_level         salary\n",
      "0               EN  188381.178125\n",
      "1               EX  246802.201754\n",
      "2               MI  248200.306832\n",
      "3               SE  170048.965421\n"
     ]
    }
   ],
   "source": [
    "#Calculate average salary based on experience level\n",
    "average_salary_e = dt.groupby('experience_level')['salary'].mean()\n",
    "average_salary_ex = average_salary_e.reset_index()\n",
    "print(average_salary_ex)"
   ]
  },
  {
   "cell_type": "code",
   "execution_count": 12,
   "id": "68718927-4826-401d-86cd-29c05b27473e",
   "metadata": {},
   "outputs": [
    {
     "name": "stdout",
     "output_type": "stream",
     "text": [
      "  employment_type         salary\n",
      "0              CT  113300.000000\n",
      "1              FL  288755.500000\n",
      "2              FT  191146.539268\n",
      "3              PT   79910.823529\n"
     ]
    }
   ],
   "source": [
    "#Calculate average salary based on employment type\n",
    "average_salary_et = dt.groupby('employment_type')['salary'].mean()\n",
    "average_salary_emp = average_salary_et.reset_index()\n",
    "print(average_salary_emp)"
   ]
  },
  {
   "cell_type": "code",
   "execution_count": 13,
   "id": "4bd709ac-cbd8-40d5-aba8-2a3c4641f794",
   "metadata": {
    "scrolled": true
   },
   "outputs": [
    {
     "name": "stdout",
     "output_type": "stream",
     "text": [
      "                        job_title         salary\n",
      "0   3D Computer Vision Researcher  120000.000000\n",
      "1                    AI Developer  137181.818182\n",
      "2                   AI Programmer   55000.000000\n",
      "3                    AI Scientist  275312.500000\n",
      "4              Analytics Engineer  151352.621359\n",
      "..                            ...            ...\n",
      "88              Research Engineer  162752.810811\n",
      "89             Research Scientist  160768.890244\n",
      "90         Software Data Engineer   75000.000000\n",
      "91             Staff Data Analyst   15000.000000\n",
      "92           Staff Data Scientist  105000.000000\n",
      "\n",
      "[93 rows x 2 columns]\n"
     ]
    }
   ],
   "source": [
    "#Calculate average salary based on job title \n",
    "average_salary_j = dt.groupby('job_title')['salary'].mean()\n",
    "average_salary_jt = average_salary_j.reset_index()\n",
    "print(average_salary_jt)"
   ]
  },
  {
   "cell_type": "code",
   "execution_count": 14,
   "id": "1be54c66-252c-4d3e-888e-3c58b03638bf",
   "metadata": {},
   "outputs": [
    {
     "name": "stdout",
     "output_type": "stream",
     "text": [
      "   employee_residence         salary\n",
      "0                  AE  100000.000000\n",
      "1                  AM   50000.000000\n",
      "2                  AR   35500.000000\n",
      "3                  AS   32777.500000\n",
      "4                  AT   65833.333333\n",
      "..                ...            ...\n",
      "73                 TR  114600.000000\n",
      "74                 UA   57850.000000\n",
      "75                 US  152822.011651\n",
      "76                 UZ  103000.000000\n",
      "77                 VN   33466.666667\n",
      "\n",
      "[78 rows x 2 columns]\n"
     ]
    }
   ],
   "source": [
    "#Calculate average salary based on employee residence \n",
    "average_salary_er = dt.groupby('employee_residence')['salary'].mean()\n",
    "average_salary_emres = average_salary_er.reset_index()\n",
    "print(average_salary_emres)"
   ]
  },
  {
   "cell_type": "code",
   "execution_count": 15,
   "id": "793e5c34-225f-4f6e-9acc-bc034c67b3da",
   "metadata": {},
   "outputs": [
    {
     "name": "stdout",
     "output_type": "stream",
     "text": [
      "   company_location         salary\n",
      "0                AE  100000.000000\n",
      "1                AL   10000.000000\n",
      "2                AM   50000.000000\n",
      "3                AR   25000.000000\n",
      "4                AS  468333.333333\n",
      "..              ...            ...\n",
      "67               TH  618333.333333\n",
      "68               TR  114600.000000\n",
      "69               UA   57850.000000\n",
      "70               US  157665.357566\n",
      "71               VN   12000.000000\n",
      "\n",
      "[72 rows x 2 columns]\n"
     ]
    }
   ],
   "source": [
    "#Calculate average salary based on company location \n",
    "average_salary_c = dt.groupby('company_location')['salary'].mean()\n",
    "average_salary_cl = average_salary_c.reset_index()\n",
    "print(average_salary_cl)"
   ]
  },
  {
   "cell_type": "code",
   "execution_count": 16,
   "id": "5320ec0c-1a11-49f2-8984-286dcf840ced",
   "metadata": {},
   "outputs": [
    {
     "name": "stdout",
     "output_type": "stream",
     "text": [
      "  company_size         salary\n",
      "0            L  438794.372247\n",
      "1            M  150712.836029\n",
      "2            S  281430.101351\n"
     ]
    }
   ],
   "source": [
    "#Calculate average salary based on company size \n",
    "average_salary_cs = dt.groupby('company_size')['salary'].mean()\n",
    "average_salary_csize = average_salary_cs.reset_index()\n",
    "print(average_salary_csize)"
   ]
  },
  {
   "cell_type": "code",
   "execution_count": null,
   "id": "57c571c6-bf87-40c4-9646-357fbc78bd44",
   "metadata": {},
   "outputs": [],
   "source": []
  }
 ],
 "metadata": {
  "kernelspec": {
   "display_name": "Python 3 (ipykernel)",
   "language": "python",
   "name": "python3"
  },
  "language_info": {
   "codemirror_mode": {
    "name": "ipython",
    "version": 3
   },
   "file_extension": ".py",
   "mimetype": "text/x-python",
   "name": "python",
   "nbconvert_exporter": "python",
   "pygments_lexer": "ipython3",
   "version": "3.10.9"
  }
 },
 "nbformat": 4,
 "nbformat_minor": 5
}
